{
 "cells": [
  {
   "cell_type": "markdown",
   "metadata": {
    "collapsed": true
   },
   "source": [
    "# Handwritten Digits Classifier Project"
   ]
  },
  {
   "cell_type": "markdown",
   "metadata": {},
   "source": [
    "For this project, our goal is to build a machine learning model that can classify digits written by humans correctly. This is a type of computer vision project, and as such, will be more complex than many of the other project on my portfolio website.\n",
    "\n",
    "We also will be utilizing neural networks to help us achieve our task. This is mainly due to the fact that image recognition requires us to use a model that is capable of handling millions of features (created from the resolution of images)."
   ]
  },
  {
   "cell_type": "markdown",
   "metadata": {},
   "source": [
    "### Preprocessing and Preliminary Analysis"
   ]
  },
  {
   "cell_type": "code",
   "execution_count": 1,
   "metadata": {},
   "outputs": [],
   "source": [
    "# We first import all of our necessary packages\n",
    "import pandas as pd\n",
    "import numpy as np\n",
    "import matplotlib.pyplot as plt\n",
    "from sklearn.metrics import mean_squared_error\n",
    "from sklearn.neural_network import MLPClassifier\n",
    "from sklearn.neighbors import KNeighborsClassifier\n",
    "from sklearn.model_selection import KFold"
   ]
  },
  {
   "cell_type": "code",
   "execution_count": 2,
   "metadata": {},
   "outputs": [],
   "source": [
    "# We also will load in the digits dataset from scikit-learn\n",
    "from sklearn.datasets import load_digits"
   ]
  },
  {
   "cell_type": "code",
   "execution_count": 3,
   "metadata": {},
   "outputs": [],
   "source": [
    "# We then call the laod digits function\n",
    "data_array = load_digits()"
   ]
  },
  {
   "cell_type": "code",
   "execution_count": 4,
   "metadata": {},
   "outputs": [
    {
     "data": {
      "text/plain": [
       "dict_keys(['data', 'target', 'frame', 'feature_names', 'target_names', 'images', 'DESCR'])"
      ]
     },
     "execution_count": 4,
     "metadata": {},
     "output_type": "execute_result"
    }
   ],
   "source": [
    "# This structure is a dictionary. As such, we need to check the keys to determine the target\n",
    "data_array.keys()"
   ]
  },
  {
   "cell_type": "code",
   "execution_count": 5,
   "metadata": {},
   "outputs": [],
   "source": [
    "target = pd.Series(data_array['target'])"
   ]
  },
  {
   "cell_type": "code",
   "execution_count": 6,
   "metadata": {},
   "outputs": [],
   "source": [
    "numbers = pd.DataFrame(data_array['data'])"
   ]
  },
  {
   "cell_type": "code",
   "execution_count": 7,
   "metadata": {},
   "outputs": [
    {
     "data": {
      "text/html": [
       "<div>\n",
       "<style scoped>\n",
       "    .dataframe tbody tr th:only-of-type {\n",
       "        vertical-align: middle;\n",
       "    }\n",
       "\n",
       "    .dataframe tbody tr th {\n",
       "        vertical-align: top;\n",
       "    }\n",
       "\n",
       "    .dataframe thead th {\n",
       "        text-align: right;\n",
       "    }\n",
       "</style>\n",
       "<table border=\"1\" class=\"dataframe\">\n",
       "  <thead>\n",
       "    <tr style=\"text-align: right;\">\n",
       "      <th></th>\n",
       "      <th>0</th>\n",
       "      <th>1</th>\n",
       "      <th>2</th>\n",
       "      <th>3</th>\n",
       "      <th>4</th>\n",
       "      <th>5</th>\n",
       "      <th>6</th>\n",
       "      <th>7</th>\n",
       "      <th>8</th>\n",
       "      <th>9</th>\n",
       "      <th>...</th>\n",
       "      <th>54</th>\n",
       "      <th>55</th>\n",
       "      <th>56</th>\n",
       "      <th>57</th>\n",
       "      <th>58</th>\n",
       "      <th>59</th>\n",
       "      <th>60</th>\n",
       "      <th>61</th>\n",
       "      <th>62</th>\n",
       "      <th>63</th>\n",
       "    </tr>\n",
       "  </thead>\n",
       "  <tbody>\n",
       "    <tr>\n",
       "      <th>0</th>\n",
       "      <td>0.0</td>\n",
       "      <td>0.0</td>\n",
       "      <td>5.0</td>\n",
       "      <td>13.0</td>\n",
       "      <td>9.0</td>\n",
       "      <td>1.0</td>\n",
       "      <td>0.0</td>\n",
       "      <td>0.0</td>\n",
       "      <td>0.0</td>\n",
       "      <td>0.0</td>\n",
       "      <td>...</td>\n",
       "      <td>0.0</td>\n",
       "      <td>0.0</td>\n",
       "      <td>0.0</td>\n",
       "      <td>0.0</td>\n",
       "      <td>6.0</td>\n",
       "      <td>13.0</td>\n",
       "      <td>10.0</td>\n",
       "      <td>0.0</td>\n",
       "      <td>0.0</td>\n",
       "      <td>0.0</td>\n",
       "    </tr>\n",
       "  </tbody>\n",
       "</table>\n",
       "<p>1 rows × 64 columns</p>\n",
       "</div>"
      ],
      "text/plain": [
       "    0    1    2     3    4    5    6    7    8    9   ...   54   55   56   57  \\\n",
       "0  0.0  0.0  5.0  13.0  9.0  1.0  0.0  0.0  0.0  0.0  ...  0.0  0.0  0.0  0.0   \n",
       "\n",
       "    58    59    60   61   62   63  \n",
       "0  6.0  13.0  10.0  0.0  0.0  0.0  \n",
       "\n",
       "[1 rows x 64 columns]"
      ]
     },
     "execution_count": 7,
     "metadata": {},
     "output_type": "execute_result"
    }
   ],
   "source": [
    "# We then inspect our dataframe to get an idea of what it looks like\n",
    "numbers.head(1)"
   ]
  },
  {
   "cell_type": "markdown",
   "metadata": {},
   "source": [
    "### Visualization"
   ]
  },
  {
   "cell_type": "markdown",
   "metadata": {},
   "source": [
    "Because we are dealing with handwritten images, it would probably be a good idea to display what these images look like."
   ]
  },
  {
   "cell_type": "code",
   "execution_count": 8,
   "metadata": {},
   "outputs": [],
   "source": [
    "first_image = numbers.iloc[0]\n",
    "np_image = first_image.values\n",
    "np_image = np_image.reshape(8,8)"
   ]
  },
  {
   "cell_type": "code",
   "execution_count": 9,
   "metadata": {},
   "outputs": [
    {
     "data": {
      "text/plain": [
       "<matplotlib.image.AxesImage at 0x7fdab319e070>"
      ]
     },
     "execution_count": 9,
     "metadata": {},
     "output_type": "execute_result"
    },
    {
     "data": {
      "image/png": "[encoded data removed]",
      "text/plain": [
       "<Figure size 600x400 with 1 Axes>"
      ]
     },
     "metadata": {},
     "output_type": "display_data"
    }
   ],
   "source": [
    "%matplotlib inline\n",
    "plt.imshow(np_image, cmap='gray_r')"
   ]
  },
  {
   "cell_type": "code",
   "execution_count": 10,
   "metadata": {},
   "outputs": [
    {
     "data": {
      "text/plain": [
       "<matplotlib.image.AxesImage at 0x7fdaad7707c0>"
      ]
     },
     "execution_count": 10,
     "metadata": {},
     "output_type": "execute_result"
    },
    {
     "data": {
      "image/png": "[encoded data removed]",
      "text/plain": [
       "<Figure size 600x400 with 8 Axes>"
      ]
     },
     "metadata": {},
     "output_type": "display_data"
    }
   ],
   "source": [
    "# Let's try creating a subppot to display multiple figures\n",
    "f, axfig = plt.subplots(2, 4)\n",
    "axfig[0,0].imshow(numbers.iloc[0].values.reshape(8, 8), cmap='gray_r')\n",
    "axfig[0,1].imshow(numbers.iloc[99].values.reshape(8, 8), cmap='gray_r')\n",
    "axfig[0,2].imshow(numbers.iloc[199].values.reshape(8, 8), cmap='gray_r')\n",
    "axfig[0,3].imshow(numbers.iloc[299].values.reshape(8, 8), cmap='gray_r')\n",
    "\n",
    "axfig[1,0].imshow(numbers.iloc[999].values.reshape(8, 8), cmap='gray_r')\n",
    "axfig[1,1].imshow(numbers.iloc[1099].values.reshape(8, 8), cmap='gray_r')\n",
    "axfig[1,2].imshow(numbers.iloc[1199].values.reshape(8, 8), cmap='gray_r')\n",
    "axfig[1,3].imshow(numbers.iloc[1299].values.reshape(8, 8), cmap='gray_r')"
   ]
  },
  {
   "cell_type": "markdown",
   "metadata": {},
   "source": [
    "### K-Nearest Neigbors Model"
   ]
  },
  {
   "cell_type": "markdown",
   "metadata": {},
   "source": [
    "Before we attempt to implement neural networks, let us first try a simpler K-Nearest Neighbors approach. Recall that the nearest neighbors algorithm compares every unseen observation in the test set to all training observations to loo for similar observations. Resultantly, this model makes no linearity assumptions in the data, which will help us achieve our goal"
   ]
  },
  {
   "cell_type": "code",
   "execution_count": 11,
   "metadata": {},
   "outputs": [],
   "source": [
    "# We first split our data into training and test sets\n",
    "index_split = round(.8*len(numbers))\n",
    "train_features = numbers.iloc[:index_split]\n",
    "test_features = numbers.iloc[index_split:]\n",
    "train_target = target.iloc[:index_split]\n",
    "test_target = target.iloc[index_split:]"
   ]
  },
  {
   "cell_type": "code",
   "execution_count": 12,
   "metadata": {},
   "outputs": [],
   "source": [
    "# We then construct a pipeline to train and test our knn models\n",
    "# We first begin by creating an function to train.\n",
    "def train(features, target_column, k_value):\n",
    "    knc = KNeighborsClassifier(n_neighbors=k_value, algorithm=\"auto\")\n",
    "    knc.fit(features, target_column)\n",
    "    return knc"
   ]
  },
  {
   "cell_type": "code",
   "execution_count": 13,
   "metadata": {},
   "outputs": [],
   "source": [
    "# We then create a function to test our model\n",
    "def test(features, target_column, model):\n",
    "    predictions = model.predict(features)  # Predict with model created with the train() function\n",
    "    accuracy_df = pd.DataFrame()  # Instantiate an empty dataframe\n",
    "    accuracy_df[\"predicted\"] = predictions  # Create a column with our predicted values\n",
    "    target_column = target_column.reset_index(drop=True)\n",
    "    accuracy_df[\"correct\"] = target_column  # Create a column with the correct values\n",
    "    accuracy_mask = accuracy_df[\"predicted\"] == accuracy_df[\"correct\"]  # Filter correct values\n",
    "    score = len(accuracy_df[accuracy_mask]) / len(accuracy_df)  # Divide the number correct by the total\n",
    "    return score"
   ]
  },
  {
   "cell_type": "code",
   "execution_count": 14,
   "metadata": {},
   "outputs": [],
   "source": [
    "# We also create a cross validation function to better estimate our model\n",
    "def cross_validate(k_value):\n",
    "    accuracies = []\n",
    "    kf = KFold(n_splits=4)\n",
    "    for train_index, test_index in kf.split(numbers):\n",
    "        training_set, test_set = numbers.loc[train_index], numbers.loc[test_index]\n",
    "        training_labels, test_labels = target.loc[train_index], target.loc[test_index]\n",
    "        model = train(training_set, training_labels, k_value)\n",
    "        score = test(test_set, test_labels, model)\n",
    "        accuracies.append(score)\n",
    "    return accuracies "
   ]
  },
  {
   "cell_type": "code",
   "execution_count": 15,
   "metadata": {},
   "outputs": [],
   "source": [
    "# We now test out our functions above to ensure they work\n",
    "trial_model = train(train_features, train_target, 1)\n",
    "test_score = test(test_features, test_target, trial_model)"
   ]
  },
  {
   "cell_type": "code",
   "execution_count": 16,
   "metadata": {},
   "outputs": [
    {
     "name": "stdout",
     "output_type": "stream",
     "text": [
      "Our accuracy for our trial model is 0.9554317548746518\n"
     ]
    }
   ],
   "source": [
    "print(\"Our accuracy for our trial model is {}\".format(test_score))"
   ]
  },
  {
   "cell_type": "markdown",
   "metadata": {},
   "source": [
    "Now, let's try our model with cross validation. We first must make a change to our test function before we call the cross validation function."
   ]
  },
  {
   "cell_type": "code",
   "execution_count": 18,
   "metadata": {},
   "outputs": [
    {
     "name": "stdout",
     "output_type": "stream",
     "text": [
      "With k-fold cross validation, our model is 0.97 percent accurate\n"
     ]
    }
   ],
   "source": [
    "final_score = np.mean(cross_validate(1))\n",
    "print(\"With k-fold cross validation, our model is {} percent accurate\".format(round(final_score, 2)))"
   ]
  },
  {
   "cell_type": "code",
   "execution_count": 23,
   "metadata": {},
   "outputs": [
    {
     "data": {
      "text/plain": [
       "Text(0.5, 1.0, 'Accuracy versus K-Value')"
      ]
     },
     "execution_count": 23,
     "metadata": {},
     "output_type": "execute_result"
    },
    {
     "data": {
      "image/png": "[encoded data removed]",
      "text/plain": [
       "<Figure size 600x400 with 1 Axes>"
      ]
     },
     "metadata": {},
     "output_type": "display_data"
    }
   ],
   "source": [
    "k_values = [1, 2, 3, 4, 5, 6, 7, 8, 9, 10]\n",
    "accuracy = []\n",
    "for k in k_values:\n",
    "    scores = cross_validate(k)\n",
    "    final_score = np.mean(scores)\n",
    "    accuracy.append(final_score)\n",
    "plt.plot(k_values, accuracy)\n",
    "plt.title(\"Accuracy versus K-Value\")"
   ]
  },
  {
   "cell_type": "markdown",
   "metadata": {},
   "source": [
    "### Neural Network"
   ]
  },
  {
   "cell_type": "markdown",
   "metadata": {},
   "source": [
    "Our K-Nearest Neighbors model was very accurate, however, there are some downsides to this model. For starters, it has high memory usage. Coupled with the fact that there is no model representation to debug and explore, it raises the question of is this a viable model.\n",
    "\n",
    "To really apply my knowledge of Machine Learning, this type of problem is a prime candidate for a Neural Network classifier. As a result, we will construct a neural network model below to try and predict our handwritten images. "
   ]
  },
  {
   "cell_type": "code",
   "execution_count": 28,
   "metadata": {},
   "outputs": [],
   "source": [
    "# We reconstruct the pipeline from above by replacing the K-NN class with a Neural Network class\n",
    "def train_nn(size, features, target_column):\n",
    "    nn_clf = MLPClassifier(hidden_layer_sizes=(size,), activation=\"logistic\")\n",
    "    network = nn_clf.fit(features, target_column)\n",
    "    return network\n",
    "\n",
    "def test(features, target_column, model):\n",
    "    predictions = model.predict(features)  # Predict with model created with the train() function\n",
    "    accuracy_df = pd.DataFrame()  # Instantiate an empty dataframe\n",
    "    accuracy_df[\"predicted\"] = predictions  # Create a column with our predicted values\n",
    "    target_column = target_column.reset_index(drop=True)\n",
    "    accuracy_df[\"correct\"] = target_column  # Create a column with the correct values\n",
    "    accuracy_mask = accuracy_df[\"predicted\"] == accuracy_df[\"correct\"]  # Filter correct values\n",
    "    score = len(accuracy_df[accuracy_mask]) / len(accuracy_df)  # Divide the number correct by the total\n",
    "    return score\n",
    "\n",
    "def cross_validate(size):\n",
    "    accuracies = []\n",
    "    kf = KFold(n_splits=4)\n",
    "    for train_index, test_index in kf.split(numbers):\n",
    "        training_set, test_set = numbers.loc[train_index], numbers.loc[test_index]\n",
    "        training_labels, test_labels = target.loc[train_index], target.loc[test_index]\n",
    "        model = train_nn(size, training_set, training_labels)\n",
    "        score = test(test_set, test_labels, model)\n",
    "        accuracies.append(score)\n",
    "    final_score = (np.mean(accuracies)) * 100\n",
    "    return final_score "
   ]
  },
  {
   "cell_type": "code",
   "execution_count": 29,
   "metadata": {},
   "outputs": [
    {
     "name": "stderr",
     "output_type": "stream",
     "text": [
      "/dataquest/system/env/python3/lib/python3.8/site-packages/sklearn/neural_network/_multilayer_perceptron.py:582: ConvergenceWarning:\n",
      "\n",
      "Stochastic Optimizer: Maximum iterations (200) reached and the optimization hasn't converged yet.\n",
      "\n",
      "/dataquest/system/env/python3/lib/python3.8/site-packages/sklearn/neural_network/_multilayer_perceptron.py:582: ConvergenceWarning:\n",
      "\n",
      "Stochastic Optimizer: Maximum iterations (200) reached and the optimization hasn't converged yet.\n",
      "\n",
      "/dataquest/system/env/python3/lib/python3.8/site-packages/sklearn/neural_network/_multilayer_perceptron.py:582: ConvergenceWarning:\n",
      "\n",
      "Stochastic Optimizer: Maximum iterations (200) reached and the optimization hasn't converged yet.\n",
      "\n",
      "/dataquest/system/env/python3/lib/python3.8/site-packages/sklearn/neural_network/_multilayer_perceptron.py:582: ConvergenceWarning:\n",
      "\n",
      "Stochastic Optimizer: Maximum iterations (200) reached and the optimization hasn't converged yet.\n",
      "\n"
     ]
    },
    {
     "name": "stdout",
     "output_type": "stream",
     "text": [
      "A neural network with 8 nuerons is 87.42365751051719% accurate\n"
     ]
    },
    {
     "name": "stderr",
     "output_type": "stream",
     "text": [
      "/dataquest/system/env/python3/lib/python3.8/site-packages/sklearn/neural_network/_multilayer_perceptron.py:582: ConvergenceWarning:\n",
      "\n",
      "Stochastic Optimizer: Maximum iterations (200) reached and the optimization hasn't converged yet.\n",
      "\n",
      "/dataquest/system/env/python3/lib/python3.8/site-packages/sklearn/neural_network/_multilayer_perceptron.py:582: ConvergenceWarning:\n",
      "\n",
      "Stochastic Optimizer: Maximum iterations (200) reached and the optimization hasn't converged yet.\n",
      "\n",
      "/dataquest/system/env/python3/lib/python3.8/site-packages/sklearn/neural_network/_multilayer_perceptron.py:582: ConvergenceWarning:\n",
      "\n",
      "Stochastic Optimizer: Maximum iterations (200) reached and the optimization hasn't converged yet.\n",
      "\n",
      "/dataquest/system/env/python3/lib/python3.8/site-packages/sklearn/neural_network/_multilayer_perceptron.py:582: ConvergenceWarning:\n",
      "\n",
      "Stochastic Optimizer: Maximum iterations (200) reached and the optimization hasn't converged yet.\n",
      "\n"
     ]
    },
    {
     "name": "stdout",
     "output_type": "stream",
     "text": [
      "A neural network with 16 nuerons is 92.98824548379115% accurate\n"
     ]
    },
    {
     "name": "stderr",
     "output_type": "stream",
     "text": [
      "/dataquest/system/env/python3/lib/python3.8/site-packages/sklearn/neural_network/_multilayer_perceptron.py:582: ConvergenceWarning:\n",
      "\n",
      "Stochastic Optimizer: Maximum iterations (200) reached and the optimization hasn't converged yet.\n",
      "\n",
      "/dataquest/system/env/python3/lib/python3.8/site-packages/sklearn/neural_network/_multilayer_perceptron.py:582: ConvergenceWarning:\n",
      "\n",
      "Stochastic Optimizer: Maximum iterations (200) reached and the optimization hasn't converged yet.\n",
      "\n",
      "/dataquest/system/env/python3/lib/python3.8/site-packages/sklearn/neural_network/_multilayer_perceptron.py:582: ConvergenceWarning:\n",
      "\n",
      "Stochastic Optimizer: Maximum iterations (200) reached and the optimization hasn't converged yet.\n",
      "\n",
      "/dataquest/system/env/python3/lib/python3.8/site-packages/sklearn/neural_network/_multilayer_perceptron.py:582: ConvergenceWarning:\n",
      "\n",
      "Stochastic Optimizer: Maximum iterations (200) reached and the optimization hasn't converged yet.\n",
      "\n"
     ]
    },
    {
     "name": "stdout",
     "output_type": "stream",
     "text": [
      "A neural network with 32 nuerons is 94.99158624102945% accurate\n"
     ]
    },
    {
     "name": "stderr",
     "output_type": "stream",
     "text": [
      "/dataquest/system/env/python3/lib/python3.8/site-packages/sklearn/neural_network/_multilayer_perceptron.py:582: ConvergenceWarning:\n",
      "\n",
      "Stochastic Optimizer: Maximum iterations (200) reached and the optimization hasn't converged yet.\n",
      "\n",
      "/dataquest/system/env/python3/lib/python3.8/site-packages/sklearn/neural_network/_multilayer_perceptron.py:582: ConvergenceWarning:\n",
      "\n",
      "Stochastic Optimizer: Maximum iterations (200) reached and the optimization hasn't converged yet.\n",
      "\n",
      "/dataquest/system/env/python3/lib/python3.8/site-packages/sklearn/neural_network/_multilayer_perceptron.py:582: ConvergenceWarning:\n",
      "\n",
      "Stochastic Optimizer: Maximum iterations (200) reached and the optimization hasn't converged yet.\n",
      "\n",
      "/dataquest/system/env/python3/lib/python3.8/site-packages/sklearn/neural_network/_multilayer_perceptron.py:582: ConvergenceWarning:\n",
      "\n",
      "Stochastic Optimizer: Maximum iterations (200) reached and the optimization hasn't converged yet.\n",
      "\n"
     ]
    },
    {
     "name": "stdout",
     "output_type": "stream",
     "text": [
      "A neural network with 64 nuerons is 94.7687453600594% accurate\n",
      "A neural network with 128 nuerons is 95.10269735214055% accurate\n",
      "A neural network with 256 nuerons is 95.26961148230636% accurate\n"
     ]
    }
   ],
   "source": [
    "# We now apply our reconstructed function\n",
    "neurons = [8, 16, 32, 64, 128, 256]\n",
    "for n in neurons:\n",
    "    nn_accuracy = cross_validate(n)\n",
    "    print(\"A neural network with {} nuerons is {}% accurate\".format(n, nn_accuracy))"
   ]
  },
  {
   "cell_type": "code",
   "execution_count": 30,
   "metadata": {},
   "outputs": [
    {
     "data": {
      "image/png": "[encoded data removed]",
      "text/plain": [
       "<Figure size 600x400 with 1 Axes>"
      ]
     },
     "metadata": {},
     "output_type": "display_data"
    }
   ],
   "source": [
    "percentiles = [87.42, 92.98, 94.99, 94.77, 95.10, 95.27]\n",
    "plt.plot(neurons, percentiles)\n",
    "plt.title(\"Accuracy vs. Number of Nuerons\")\n",
    "plt.xlabel(\"Number of Neurons\")\n",
    "plt.ylabel(\"Percent Accurate\")\n",
    "plt.show()"
   ]
  },
  {
   "cell_type": "markdown",
   "metadata": {},
   "source": [
    "It appears that, while our model with 256 neurons was over 95% accurate, a neural network model with a single hidden layer does not edge our our K-Nearest Neighbors model in terms of it's performance. As such, we will look to incorporate a second hidden layer in our next iteration of our neural network model."
   ]
  },
  {
   "cell_type": "code",
   "execution_count": 31,
   "metadata": {},
   "outputs": [],
   "source": [
    "# We edit our pipeline functions to incorporate a second layer of 64 neurons\n",
    "# We reconstruct the pipeline from above by replacing the K-NN class with a Neural Network class\n",
    "def train_nn(size, features, target_column):\n",
    "    nn_clf = MLPClassifier(hidden_layer_sizes=size, activation=\"logistic\")\n",
    "    network = nn_clf.fit(features, target_column)\n",
    "    return network\n",
    "\n",
    "def test(features, target_column, model):\n",
    "    predictions = model.predict(features)  # Predict with model created with the train() function\n",
    "    accuracy_df = pd.DataFrame()  # Instantiate an empty dataframe\n",
    "    accuracy_df[\"predicted\"] = predictions  # Create a column with our predicted values\n",
    "    target_column = target_column.reset_index(drop=True)\n",
    "    accuracy_df[\"correct\"] = target_column  # Create a column with the correct values\n",
    "    accuracy_mask = accuracy_df[\"predicted\"] == accuracy_df[\"correct\"]  # Filter correct values\n",
    "    score = len(accuracy_df[accuracy_mask]) / len(accuracy_df)  # Divide the number correct by the total\n",
    "    return score\n",
    "\n",
    "def cross_validate(size):\n",
    "    accuracies = []\n",
    "    kf = KFold(n_splits=4)\n",
    "    for train_index, test_index in kf.split(numbers):\n",
    "        training_set, test_set = numbers.loc[train_index], numbers.loc[test_index]\n",
    "        training_labels, test_labels = target.loc[train_index], target.loc[test_index]\n",
    "        model = train_nn(size, training_set, training_labels)\n",
    "        score = test(test_set, test_labels, model)\n",
    "        accuracies.append(score)\n",
    "    final_score = (np.mean(accuracies)) * 100\n",
    "    return final_score "
   ]
  },
  {
   "cell_type": "code",
   "execution_count": 33,
   "metadata": {},
   "outputs": [
    {
     "name": "stderr",
     "output_type": "stream",
     "text": [
      "/dataquest/system/env/python3/lib/python3.8/site-packages/sklearn/neural_network/_multilayer_perceptron.py:582: ConvergenceWarning:\n",
      "\n",
      "Stochastic Optimizer: Maximum iterations (200) reached and the optimization hasn't converged yet.\n",
      "\n",
      "/dataquest/system/env/python3/lib/python3.8/site-packages/sklearn/neural_network/_multilayer_perceptron.py:582: ConvergenceWarning:\n",
      "\n",
      "Stochastic Optimizer: Maximum iterations (200) reached and the optimization hasn't converged yet.\n",
      "\n",
      "/dataquest/system/env/python3/lib/python3.8/site-packages/sklearn/neural_network/_multilayer_perceptron.py:582: ConvergenceWarning:\n",
      "\n",
      "Stochastic Optimizer: Maximum iterations (200) reached and the optimization hasn't converged yet.\n",
      "\n"
     ]
    },
    {
     "name": "stdout",
     "output_type": "stream",
     "text": [
      "A Neural Network model with 2 hidden layers composed of 64 neurons each is 95.38010393466963% accurate\n"
     ]
    },
    {
     "name": "stderr",
     "output_type": "stream",
     "text": [
      "/dataquest/system/env/python3/lib/python3.8/site-packages/sklearn/neural_network/_multilayer_perceptron.py:582: ConvergenceWarning:\n",
      "\n",
      "Stochastic Optimizer: Maximum iterations (200) reached and the optimization hasn't converged yet.\n",
      "\n"
     ]
    }
   ],
   "source": [
    "two_layer_accuracy = cross_validate((64,64))\n",
    "print(\"A Neural Network model with 2 hidden layers composed of 64 neurons each is {}% accurate\".format(two_layer_accuracy))"
   ]
  },
  {
   "cell_type": "markdown",
   "metadata": {},
   "source": [
    "Adding an additional hidden layer had minimal impact compared to the previous model's iteration, achieving about a .10% increase in accuracy. \n",
    "\n",
    "Our next step will help our model avoid overfitting by implementing a 3rd hidden layer and performing 6-fold cross validation. It is likely that this model will not improve, however, we can be assured that our neural network will generalize better to handwritten images it sees in the real world."
   ]
  },
  {
   "cell_type": "code",
   "execution_count": 34,
   "metadata": {},
   "outputs": [],
   "source": [
    "# We edit our functions one last time to account for 6-fold cross validation\n",
    "def train_nn(size, features, target_column):\n",
    "    nn_clf = MLPClassifier(hidden_layer_sizes=size, activation=\"logistic\")\n",
    "    network = nn_clf.fit(features, target_column)\n",
    "    return network\n",
    "\n",
    "def test(features, target_column, model):\n",
    "    predictions = model.predict(features)  # Predict with model created with the train() function\n",
    "    accuracy_df = pd.DataFrame()  # Instantiate an empty dataframe\n",
    "    accuracy_df[\"predicted\"] = predictions  # Create a column with our predicted values\n",
    "    target_column = target_column.reset_index(drop=True)\n",
    "    accuracy_df[\"correct\"] = target_column  # Create a column with the correct values\n",
    "    accuracy_mask = accuracy_df[\"predicted\"] == accuracy_df[\"correct\"]  # Filter correct values\n",
    "    score = len(accuracy_df[accuracy_mask]) / len(accuracy_df)  # Divide the number correct by the total\n",
    "    return score\n",
    "\n",
    "def cross_validate(size):\n",
    "    accuracies = []\n",
    "    kf = KFold(n_splits=6)\n",
    "    for train_index, test_index in kf.split(numbers):\n",
    "        training_set, test_set = numbers.loc[train_index], numbers.loc[test_index]\n",
    "        training_labels, test_labels = target.loc[train_index], target.loc[test_index]\n",
    "        model = train_nn(size, training_set, training_labels)\n",
    "        score = test(test_set, test_labels, model)\n",
    "        accuracies.append(score)\n",
    "    final_score = (np.mean(accuracies)) * 100\n",
    "    return final_score "
   ]
  },
  {
   "cell_type": "code",
   "execution_count": 38,
   "metadata": {},
   "outputs": [
    {
     "name": "stderr",
     "output_type": "stream",
     "text": [
      "/dataquest/system/env/python3/lib/python3.8/site-packages/sklearn/neural_network/_multilayer_perceptron.py:582: ConvergenceWarning:\n",
      "\n",
      "Stochastic Optimizer: Maximum iterations (200) reached and the optimization hasn't converged yet.\n",
      "\n",
      "/dataquest/system/env/python3/lib/python3.8/site-packages/sklearn/neural_network/_multilayer_perceptron.py:582: ConvergenceWarning:\n",
      "\n",
      "Stochastic Optimizer: Maximum iterations (200) reached and the optimization hasn't converged yet.\n",
      "\n",
      "/dataquest/system/env/python3/lib/python3.8/site-packages/sklearn/neural_network/_multilayer_perceptron.py:582: ConvergenceWarning:\n",
      "\n",
      "Stochastic Optimizer: Maximum iterations (200) reached and the optimization hasn't converged yet.\n",
      "\n",
      "/dataquest/system/env/python3/lib/python3.8/site-packages/sklearn/neural_network/_multilayer_perceptron.py:582: ConvergenceWarning:\n",
      "\n",
      "Stochastic Optimizer: Maximum iterations (200) reached and the optimization hasn't converged yet.\n",
      "\n",
      "/dataquest/system/env/python3/lib/python3.8/site-packages/sklearn/neural_network/_multilayer_perceptron.py:582: ConvergenceWarning:\n",
      "\n",
      "Stochastic Optimizer: Maximum iterations (200) reached and the optimization hasn't converged yet.\n",
      "\n",
      "/dataquest/system/env/python3/lib/python3.8/site-packages/sklearn/neural_network/_multilayer_perceptron.py:582: ConvergenceWarning:\n",
      "\n",
      "Stochastic Optimizer: Maximum iterations (200) reached and the optimization hasn't converged yet.\n",
      "\n"
     ]
    }
   ],
   "source": [
    "three_layer_constructions = [\n",
    "    (10, 10, 10),\n",
    "    (64, 64, 64),\n",
    "    (128, 128, 128)\n",
    "]\n",
    "three_layer_scores = []\n",
    "for n in three_layer_constructions:\n",
    "    score = cross_validate(n)\n",
    "    three_layer_scores.append(score)"
   ]
  },
  {
   "cell_type": "code",
   "execution_count": 39,
   "metadata": {},
   "outputs": [
    {
     "data": {
      "image/png": "[encoded data removed]",
      "text/plain": [
       "<Figure size 600x400 with 1 Axes>"
      ]
     },
     "metadata": {},
     "output_type": "display_data"
    }
   ],
   "source": [
    "# We now plot our results to visualize our accuracy scores better\n",
    "plt.plot([10, 64, 128], three_layer_scores)\n",
    "plt.title(\"Three Layer Neurons vs. Accuracy Comparisson\")\n",
    "plt.xlabel(\"Number of Neurons in Each Layer\")\n",
    "plt.ylabel(\"Percent Accurate\")\n",
    "plt.show()"
   ]
  },
  {
   "cell_type": "code",
   "execution_count": 40,
   "metadata": {},
   "outputs": [
    {
     "data": {
      "text/plain": [
       "[64.82924563359346, 94.10237829803046, 93.87959866220737]"
      ]
     },
     "execution_count": 40,
     "metadata": {},
     "output_type": "execute_result"
    }
   ],
   "source": [
    "three_layer_scores"
   ]
  },
  {
   "cell_type": "markdown",
   "metadata": {},
   "source": [
    "As expected, our model's performance declined when we incorporated 6-fold cross validation (as there are fewer elements to train on). We also can see that our network caps out around 64 neurons in terms of improvement. As a result, we should probably keep a three-layer, 64 neurons in each network model for optimal performance."
   ]
  },
  {
   "cell_type": "markdown",
   "metadata": {},
   "source": [
    "## Conclusion"
   ]
  },
  {
   "cell_type": "markdown",
   "metadata": {},
   "source": [
    "In this project, we performed were able to implement an image classifier Neural Network model to help classify handwritten images from our data set. While this is somewhat of a \"beginner friendly\" model to incorporate, it showcases my ever-expan"
   ]
  }
 ],
 "metadata": {
  "anaconda-cloud": {},
  "kernelspec": {
   "display_name": "Python 3",
   "language": "python",
   "name": "python3"
  },
  "language_info": {
   "codemirror_mode": {
    "name": "ipython",
    "version": 3
   },
   "file_extension": ".py",
   "mimetype": "text/x-python",
   "name": "python",
   "nbconvert_exporter": "python",
   "pygments_lexer": "ipython3",
   "version": "3.8.2"
  }
 },
 "nbformat": 4,
 "nbformat_minor": 2
}
